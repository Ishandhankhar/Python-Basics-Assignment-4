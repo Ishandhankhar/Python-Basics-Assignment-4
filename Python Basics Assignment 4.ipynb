{
 "cells": [
  {
   "cell_type": "markdown",
   "id": "5f7b1e04",
   "metadata": {},
   "source": [
    "## 1.1 Write a Python Program(with class concepts) to find the area of the triangle using the below  formula. \n",
    "## area = (s*(s-a)*(s-b)*(s-c)) ** 0.5 \n",
    "## Function to take the length of the sides of triangle from user should be defined in the parent  class and function to calculate the area should be defined in subclass. \n",
    "\n"
   ]
  },
  {
   "cell_type": "code",
   "execution_count": 100,
   "id": "e924e5be",
   "metadata": {},
   "outputs": [],
   "source": [
    "class sides():\n",
    "    def __init__(self, a, b, c):\n",
    "        self.a=a\n",
    "        self.b=b\n",
    "        self.c=c"
   ]
  },
  {
   "cell_type": "code",
   "execution_count": 101,
   "id": "11940ad4",
   "metadata": {},
   "outputs": [],
   "source": [
    "class Area(sides):\n",
    "    def __init__(self, *args):\n",
    "        super().__init__(*args)\n",
    "        \n",
    "    def calc_area(self):\n",
    "        s = (self.a + self.b + self.c)/2\n",
    "        area = (s*(s-self.a)*(s-self.b)*(s-self.c)) ** 0.5\n",
    "        print(\"Area = %.2f\"%area)\n",
    "    "
   ]
  },
  {
   "cell_type": "code",
   "execution_count": 102,
   "id": "74274fef",
   "metadata": {},
   "outputs": [],
   "source": [
    "triangle = Area(5,5,4)"
   ]
  },
  {
   "cell_type": "code",
   "execution_count": 103,
   "id": "f62f908b",
   "metadata": {},
   "outputs": [
    {
     "name": "stdout",
     "output_type": "stream",
     "text": [
      "Area = 9.17\n"
     ]
    }
   ],
   "source": [
    "triangle.calc_area()"
   ]
  },
  {
   "cell_type": "markdown",
   "id": "212cd68f",
   "metadata": {},
   "source": [
    "## 1.2 Write a function filter_long_words() that takes a list of words and an integer n and returns  the list of words that are longer than n. "
   ]
  },
  {
   "cell_type": "code",
   "execution_count": 3,
   "id": "d3953a8e",
   "metadata": {},
   "outputs": [],
   "source": [
    "def filter_long_words(lst, n):\n",
    "    empty_lst = []\n",
    "    for item in lst:\n",
    "        if len(item)>n:\n",
    "            empty_lst.append(item)\n",
    "    return empty_lst"
   ]
  },
  {
   "cell_type": "code",
   "execution_count": 4,
   "id": "eeec7fd3",
   "metadata": {},
   "outputs": [
    {
     "name": "stdout",
     "output_type": "stream",
     "text": [
      "Enter words separated by comma:ishan,is,a,good,boy,dhankhar\n",
      "Enter the number:4\n"
     ]
    },
    {
     "data": {
      "text/plain": [
       "['ishan', 'dhankhar']"
      ]
     },
     "execution_count": 4,
     "metadata": {},
     "output_type": "execute_result"
    }
   ],
   "source": [
    "input_list = input(\"Enter words separated by comma:\").split(',')\n",
    "input_length = int(input(\"Enter the number:\"))\n",
    "\n",
    "filter_long_words(input_list,input_length)"
   ]
  },
  {
   "cell_type": "code",
   "execution_count": 5,
   "id": "f4c23538",
   "metadata": {},
   "outputs": [
    {
     "name": "stdout",
     "output_type": "stream",
     "text": [
      "Enter the length:4\n",
      "['ishan', 'Dhankhar']\n"
     ]
    }
   ],
   "source": [
    "# Second approach:\n",
    "lst = ['ishan','Dhankhar','is','a','good','boy']\n",
    "number = int(input(\"Enter the length:\"))\n",
    "result = list(filter(lambda a: a if len(a)>number else False,lst))\n",
    "print(result)"
   ]
  },
  {
   "cell_type": "markdown",
   "id": "ccb65553",
   "metadata": {},
   "source": [
    "# 2.1 Write a Python program using function concept that maps list of words into a list of integers  representing the lengths of the corresponding words. \n",
    "### Hint: If a list [ ab,cde,erty] is passed on to the python function output should come as [2,3,4] Here 2,3 and 4 are the lengths of the words in the list. "
   ]
  },
  {
   "cell_type": "code",
   "execution_count": 18,
   "id": "f879178c",
   "metadata": {},
   "outputs": [],
   "source": [
    "def mapping_word_into_length(lst):\n",
    "    empty_lst = []\n",
    "    for item in lst:\n",
    "        empty_lst.append(len(item))\n",
    "    return empty_lst"
   ]
  },
  {
   "cell_type": "code",
   "execution_count": 19,
   "id": "75eb2ea8",
   "metadata": {},
   "outputs": [
    {
     "data": {
      "text/plain": [
       "[5, 2, 1, 4, 3]"
      ]
     },
     "execution_count": 19,
     "metadata": {},
     "output_type": "execute_result"
    }
   ],
   "source": [
    "mapping_word_into_length(['Ishan','is','a','good','boy'])"
   ]
  },
  {
   "cell_type": "code",
   "execution_count": 111,
   "id": "0578e528",
   "metadata": {},
   "outputs": [
    {
     "name": "stdout",
     "output_type": "stream",
     "text": [
      "Enter words by space separation:ineuron is the best platform to be successful\n",
      "[7, 2, 3, 4, 8, 2, 2, 10]\n"
     ]
    }
   ],
   "source": [
    "# Second approach:\n",
    "lst1 = input(\"Enter words by space separation:\").split(' ')\n",
    "result = list(map(lambda a: len(a),lst1))\n",
    "print(result)"
   ]
  },
  {
   "cell_type": "markdown",
   "id": "87ced17c",
   "metadata": {},
   "source": [
    "## 2.2 Write a Python function which takes a character (i.e. a string of length 1) and returns True if  it is a vowel, False otherwise. \n"
   ]
  },
  {
   "cell_type": "code",
   "execution_count": 104,
   "id": "db46783e",
   "metadata": {},
   "outputs": [
    {
     "data": {
      "text/plain": [
       "True"
      ]
     },
     "execution_count": 104,
     "metadata": {},
     "output_type": "execute_result"
    }
   ],
   "source": [
    "def vowel_checker(n):\n",
    "    if n in 'aeiouAEIOU':\n",
    "        return True\n",
    "    else:\n",
    "        return False\n",
    "\n",
    "vowel_checker('I')"
   ]
  },
  {
   "cell_type": "code",
   "execution_count": 105,
   "id": "0164be3a",
   "metadata": {},
   "outputs": [
    {
     "data": {
      "text/plain": [
       "False"
      ]
     },
     "execution_count": 105,
     "metadata": {},
     "output_type": "execute_result"
    }
   ],
   "source": [
    "vowel_checker('x')"
   ]
  },
  {
   "cell_type": "code",
   "execution_count": 107,
   "id": "29b0f216",
   "metadata": {},
   "outputs": [],
   "source": [
    "# Second approach:\n",
    "vowel = lambda a: True if a in 'aieouAEIOUO' else False"
   ]
  },
  {
   "cell_type": "code",
   "execution_count": 108,
   "id": "f251d3a3",
   "metadata": {},
   "outputs": [
    {
     "data": {
      "text/plain": [
       "True"
      ]
     },
     "execution_count": 108,
     "metadata": {},
     "output_type": "execute_result"
    }
   ],
   "source": [
    "vowel('a')"
   ]
  },
  {
   "cell_type": "code",
   "execution_count": 109,
   "id": "41054f96",
   "metadata": {},
   "outputs": [
    {
     "data": {
      "text/plain": [
       "False"
      ]
     },
     "execution_count": 109,
     "metadata": {},
     "output_type": "execute_result"
    }
   ],
   "source": [
    "vowel('z')"
   ]
  },
  {
   "cell_type": "code",
   "execution_count": null,
   "id": "582c15a7",
   "metadata": {},
   "outputs": [],
   "source": []
  }
 ],
 "metadata": {
  "kernelspec": {
   "display_name": "Python 3",
   "language": "python",
   "name": "python3"
  },
  "language_info": {
   "codemirror_mode": {
    "name": "ipython",
    "version": 3
   },
   "file_extension": ".py",
   "mimetype": "text/x-python",
   "name": "python",
   "nbconvert_exporter": "python",
   "pygments_lexer": "ipython3",
   "version": "3.8.8"
  }
 },
 "nbformat": 4,
 "nbformat_minor": 5
}
